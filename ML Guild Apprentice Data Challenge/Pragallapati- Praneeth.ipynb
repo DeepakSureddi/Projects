{
 "cells": [
  {
   "cell_type": "markdown",
   "metadata": {
    "deletable": false,
    "editable": false,
    "nbgrader": {
     "checksum": "436dab7f15d1f1fcc4feff5b1a6c13fd",
     "grade": false,
     "grade_id": "Challenge_Overview",
     "locked": true,
     "schema_version": 1,
     "solution": false
    }
   },
   "source": [
    "# Apprentice Challenge\n",
    "\n",
    "This challenge is a diagnostic of your current python pandas, matplotlib/seaborn, and numpy skills. These diagnostics will help inform your selection into the Machine Learning Guild's Apprentice program. \n",
    "\n",
    "## Challenge Background: A Magic Eight Ball & Randomness\n",
    "\n",
    "![Shaking Magic Eight Ball](https://media.giphy.com/media/efahzan109oWdMRKnH/source.gif)\n",
    "\n",
    "Do you remember these days? Holding a question in your mind and shaking the magic eight ball for an answer? \n",
    "\n",
    "From Matel via Amazon: \"The original Magic 8 Ball is the novelty toy that lets anyone seek advice about their future! All you have to do is simply 'ask the ball' any yes or no question, then wait for your answer to be revealed. Turn the toy upside-down and look inside the window on the bottom - this is where your secret message appears!\"\n",
    "\n",
    "Answers can be positive (i.e. 'It is certain'), negative (i.e. 'Don’t count on it') or neutral (i.e. 'Ask again later').\n",
    "\n",
    "In this data analysis programming challenge, you will be programmatically analyzing a Magic Eight Ball's fortune telling. This is the type of exploratory analysis typically performed before building machine learning models.\n",
    "\n",
    "## Instructions\n",
    "\n",
    "You need to know your way around `pandas` DataFrames and basic Python programming. You have **1 hour** to complete the challenge. We strongly discourage searching the internet for challenge answers.\n",
    "\n",
    "General Notes:\n",
    "* Read the first paragraph above to familiarize yourself with the topic.\n",
    "* Feel free to poke around with the iPython notebook.\n",
    "* To run a cell, you press `CRTL+ENTER`\n",
    "* Complete each of the tasks listed below in the notebook.\n",
    "* You need to provide your code for challenge in the cells which say \"-- YOUR CODE FOR TAKS NUMBER --\"\n",
    "* Make sure to run the very last read-only code cell. \n",
    "\n",
    "**Please reach out to [Guild Mailbox](mailto:guildprogram@deloitte.com) with any questions.**"
   ]
  },
  {
   "cell_type": "markdown",
   "metadata": {
    "deletable": false,
    "editable": false,
    "nbgrader": {
     "checksum": "5eb7bd43e30e6c39ff93c67959b9509c",
     "grade": false,
     "grade_id": "Task_1_Overview",
     "locked": true,
     "schema_version": 1,
     "solution": false
    }
   },
   "source": [
    "# Task 1: Generate Your Fortune!\n",
    "\n",
    "**Instructions**\n",
    "\n",
    "Ask our Python-based magic-eight ball 20 questions. You can ask it anything. Save the questions and the fortunes in respective lists which we will use down stream. Use the eightball method `get_fortune` to generate the responses. The sample code below will help you get started. \n",
    "\n",
    "```\n",
    "import eightball\n",
    "\n",
    "fortune = eightball.get_fortune(\"What is the answer to life, the universe, and everything?\")\n",
    "print(\"The Eight Balls Says: {}\".format(fortune))\n",
    "\n",
    "```\n",
    "Once you reach the box/cell containing the Python code, click on it press Ctrl + Enter and notice what happens!\n",
    "\n",
    "**Sample Questions**\n",
    "* Is there ice cream on the moon?\n",
    "* Will I make a lot of money and become a bizzilionaire?\n",
    "* Am I going to get a pony?\n",
    "\n",
    "**Expected Output**\n",
    "* `questions` which is a `list` of 20 strings\n",
    "* `fortunes` which is a `list` of 20 strings"
   ]
  },
  {
   "cell_type": "code",
   "execution_count": 1,
   "metadata": {
    "deletable": false,
    "nbgrader": {
     "checksum": "48ed8d8b666b43f1937dc2d90f7f515e",
     "grade": false,
     "grade_id": "Task1_response",
     "locked": false,
     "schema_version": 1,
     "solution": true
    }
   },
   "outputs": [
    {
     "name": "stdout",
     "output_type": "stream",
     "text": [
      "2019-03-21 10:09:39.428479\n",
      "Am I going to be a successful person?\n",
      "Stop relying on Luck!\n"
     ]
    }
   ],
   "source": [
    "# -- YOUR CODE FOR TASK 1 --\n",
    "\n",
    "import random\n",
    "import sys\n",
    "ans = True\n",
    "from datetime import datetime\n",
    "\n",
    "# Start Time\n",
    "start_time = datetime.now()\n",
    "print(start_time)\n",
    "\n",
    "# Import the eightball module\n",
    "\n",
    "# Store your questions list as a variable \"questions\"\n",
    "question=[]\n",
    "print(\"Am I going to be a successful person?\")\n",
    "\n",
    "# Generate respones to your questions and store them as a variable \"fortunes\"\n",
    "fortunes = random.randint(1,3)\n",
    "\n",
    "if question == \"\":\n",
    "    sys.exit()\n",
    "    \n",
    "elif fortunes == 1:\n",
    "    print (\"Yes\")\n",
    "    \n",
    "elif fortunes == 2:\n",
    "    print (\"No\")\n",
    "    \n",
    "elif fortunes == 3:\n",
    "    print (\"Stop relying on Luck!\")\n",
    "\n",
    "elif fortunes == 4:\n",
    "    print (\"May be\")\n",
    "    \n",
    "elif fortunes == 5:\n",
    "    print (\"God knows\")\n",
    "    \n",
    "elif fortunes == 6:\n",
    "    print (\"Work hard, you will be successful\")\n",
    "\n",
    "elif fortunes == 7:\n",
    "    print (\"I dont know\")\n",
    "    \n",
    "elif fortunes == 8:\n",
    "    print (\"Hell yea!!\")"
   ]
  },
  {
   "cell_type": "code",
   "execution_count": 2,
   "metadata": {
    "deletable": false,
    "editable": false,
    "nbgrader": {
     "checksum": "f798683e16f4d59a3c8b146837350919",
     "grade": true,
     "grade_id": "Task1_Test",
     "locked": true,
     "points": 3,
     "schema_version": 1,
     "solution": false
    }
   },
   "outputs": [
    {
     "ename": "NameError",
     "evalue": "name 'questions' is not defined",
     "output_type": "error",
     "traceback": [
      "\u001b[1;31m---------------------------------------------------------------------------\u001b[0m",
      "\u001b[1;31mNameError\u001b[0m                                 Traceback (most recent call last)",
      "\u001b[1;32m<ipython-input-2-e3ea4df9599a>\u001b[0m in \u001b[0;36m<module>\u001b[1;34m\u001b[0m\n\u001b[1;32m----> 1\u001b[1;33m \u001b[0mprint\u001b[0m\u001b[1;33m(\u001b[0m\u001b[0mtype\u001b[0m\u001b[1;33m(\u001b[0m\u001b[0mquestions\u001b[0m\u001b[1;33m)\u001b[0m\u001b[1;33m)\u001b[0m\u001b[1;33m\u001b[0m\u001b[1;33m\u001b[0m\u001b[0m\n\u001b[0m\u001b[0;32m      2\u001b[0m \u001b[0mprint\u001b[0m\u001b[1;33m(\u001b[0m\u001b[0mtype\u001b[0m\u001b[1;33m(\u001b[0m\u001b[0mfortunes\u001b[0m\u001b[1;33m)\u001b[0m\u001b[1;33m)\u001b[0m\u001b[1;33m\u001b[0m\u001b[1;33m\u001b[0m\u001b[0m\n",
      "\u001b[1;31mNameError\u001b[0m: name 'questions' is not defined"
     ]
    }
   ],
   "source": [
    "print(type(questions))\n",
    "print(type(fortunes))\n"
   ]
  },
  {
   "cell_type": "markdown",
   "metadata": {
    "deletable": false,
    "editable": false,
    "nbgrader": {
     "checksum": "7febb595911f2a4efcc5485964023aa8",
     "grade": false,
     "grade_id": "Task_2_Overview",
     "locked": true,
     "schema_version": 1,
     "solution": false
    }
   },
   "source": [
    "# Task 2: Create a DataFrame!\n",
    "\n",
    "**Instructions**\n",
    "\n",
    "Let's analyze your newly minted fortunes. Perhaps we can uncover the magic of the eightball. To start our analysis, put `questions` and `fortunes` in a pandas `DataFrame` called `questions_fortunes`. Your DataFrame should have two columns, one for each of the respective lists. What is the shape of your DataFrame?\n",
    "\n",
    "**Output**\n",
    "\n",
    "* `questions_fortunes` which is a `pandas.DataFrame` with two columns called `question` & `fortune`\n",
    "* Shape of questions_fortunes stored in a variable `shape`"
   ]
  },
  {
   "cell_type": "code",
   "execution_count": 18,
   "metadata": {
    "deletable": false,
    "nbgrader": {
     "checksum": "407aaf8597b969c8c819bb8c8a19be4b",
     "grade": false,
     "grade_id": "Task2_response",
     "locked": false,
     "schema_version": 1,
     "solution": true
    }
   },
   "outputs": [
    {
     "name": "stdout",
     "output_type": "stream",
     "text": [
      "(2, 1)\n"
     ]
    },
    {
     "data": {
      "text/html": [
       "<div>\n",
       "<style scoped>\n",
       "    .dataframe tbody tr th:only-of-type {\n",
       "        vertical-align: middle;\n",
       "    }\n",
       "\n",
       "    .dataframe tbody tr th {\n",
       "        vertical-align: top;\n",
       "    }\n",
       "\n",
       "    .dataframe thead th {\n",
       "        text-align: right;\n",
       "    }\n",
       "</style>\n",
       "<table border=\"1\" class=\"dataframe\">\n",
       "  <thead>\n",
       "    <tr style=\"text-align: right;\">\n",
       "      <th></th>\n",
       "      <th>question</th>\n",
       "      <th>fortunes</th>\n",
       "    </tr>\n",
       "  </thead>\n",
       "  <tbody>\n",
       "    <tr>\n",
       "      <th>0</th>\n",
       "      <td>[Will I be successful?]</td>\n",
       "      <td>[Yes]</td>\n",
       "    </tr>\n",
       "    <tr>\n",
       "      <th>1</th>\n",
       "      <td>[Am I any good?]</td>\n",
       "      <td>[No]</td>\n",
       "    </tr>\n",
       "  </tbody>\n",
       "</table>\n",
       "</div>"
      ],
      "text/plain": [
       "                  question fortunes\n",
       "0  [Will I be successful?]    [Yes]\n",
       "1         [Am I any good?]     [No]"
      ]
     },
     "execution_count": 18,
     "metadata": {},
     "output_type": "execute_result"
    }
   ],
   "source": [
    "# -- YOUR CODE FOR TASK 2 --\n",
    "\n",
    "import pandas as pd\n",
    "\n",
    "#Combine two lists into a dataframe with specified column names\n",
    "questions = [['Will I be successful?'], \n",
    "['Am I any good?']]\n",
    "Fortunes=[['Yes'], \n",
    "['No']]\n",
    "#questions_fortunes=pd.DataFrame.from_records(questions_fortunes)\n",
    "#Fortunes=pd.DataFrame.from_records(Fortunes)\n",
    "# Define the shape of the dataaframe\n",
    "#shape = questions_fortunes.shape\n",
    "\n",
    "print(shape)\n",
    "questions_fortunes = pd.DataFrame(columns = ['question', 'fortunes']) \n",
    "questions_fortunes['question']=questions\n",
    "questions_fortunes['fortunes']=Fortunes\n",
    "#data.drop(['0'],axis=1)\n",
    "questions_fortunes"
   ]
  },
  {
   "cell_type": "code",
   "execution_count": 19,
   "metadata": {
    "deletable": false,
    "editable": false,
    "nbgrader": {
     "checksum": "f2b487375d40f0d018df34f096576f48",
     "grade": true,
     "grade_id": "Task2_test",
     "locked": true,
     "points": 3,
     "schema_version": 1,
     "solution": false
    }
   },
   "outputs": [
    {
     "name": "stdout",
     "output_type": "stream",
     "text": [
      "['question', 'fortunes']\n"
     ]
    }
   ],
   "source": [
    "print(list(questions_fortunes))"
   ]
  },
  {
   "cell_type": "markdown",
   "metadata": {
    "deletable": false,
    "editable": false,
    "nbgrader": {
     "checksum": "4e248bb244d96306c1d6d4437318d4f8",
     "grade": false,
     "grade_id": "Task_3_Overview",
     "locked": true,
     "schema_version": 1,
     "solution": false
    }
   },
   "source": [
    "# Task 3: Getting Fortunes\n",
    "\n",
    "**Instructions**\n",
    "\n",
    "In the data sub-folder of the challenge folder, there is a dataset (\"questions-fortunes.txt\") with additional questions and magic eightball fortunes. Read that dataset into a pandas DataFrame called `temp` and combine with your `questions_fortunes` DataFrame. Be sure the index doesn't repeat. Call this new DataFrame `questions_fortunes_updt`.\n",
    "\n",
    "**Output**\n",
    "\n",
    "* A temp dataframe of additional questions/fortunes from \"questions-fortunes.txt\" datafile\n",
    "\n",
    "* An updated pandas DataFrame `questions_fortunes` with additional rows from the \"question-fortunes.txt\" datafile.\n"
   ]
  },
  {
   "cell_type": "code",
   "execution_count": null,
   "metadata": {
    "deletable": false,
    "nbgrader": {
     "checksum": "5f7dcaa1dbc1327b229f84a009768da7",
     "grade": false,
     "grade_id": "Task3_response",
     "locked": false,
     "schema_version": 1,
     "solution": true
    }
   },
   "outputs": [],
   "source": [
    "# -- YOUR CODE FOR TASK 3--\n",
    "\n",
    "# Create temp DataFrame from \"questions-fortunes.txt\"\n",
    "temp = pd.re\n",
    "\n",
    "# Combine with existing `questions_fortunes` DataFrame\n",
    "questions_fortunes_updt = ...\n",
    "\n",
    "print(\"Check your answers)"
   ]
  },
  {
   "cell_type": "code",
   "execution_count": null,
   "metadata": {
    "deletable": false,
    "editable": false,
    "nbgrader": {
     "checksum": "627bec7fd4df9ea15ca9fe00571b9401",
     "grade": true,
     "grade_id": "Task3_test",
     "locked": true,
     "points": 3,
     "schema_version": 1,
     "solution": false
    }
   },
   "outputs": [],
   "source": [
    "print(questions_fortunes_updt.shape[0])"
   ]
  },
  {
   "cell_type": "markdown",
   "metadata": {
    "deletable": false,
    "editable": false,
    "nbgrader": {
     "checksum": "b3c62f04504679f66f1b697e7fffcd35",
     "grade": false,
     "grade_id": "Task_4_Overview",
     "locked": true,
     "schema_version": 1,
     "solution": false
    }
   },
   "source": [
    "# Task 4: Common Fortunes\n",
    "\n",
    "**Instructions**\n",
    "\n",
    "With something close to 1,700 questions and fortunes, we can study the patterns of fortune telling. \n",
    "\n",
    "***Part 1:*** \n",
    "* Create a variable named `Fortune_Counts` which counts the number of times a fortune is determined for each of the available fortune in `questions_fortunes_updt`. The DataFrame should have two columns: `fortune` and `num_fortune`. The DataFrame should be sorted by `num_fortune` in descending order. Print the entire result.\n",
    " \n",
    "* We know that fortunes from the magic ball fall into one of three categories: Positive, Negative, and Neutral. Use a dictionary of lookup values to assign one of these categories to each question/fortune. Add this as a column `category` to the `Fortune_Counts` DataFrame. \n",
    "\n",
    "     * You can access the positive, negative, neutral lookup with the `eightball.fortune_category` property. To add a new column in your DataFrame using a dictionary try adapting this technique: \n",
    "\n",
    "        ```\n",
    "        raw = [[0, \"Pony\"],\n",
    "               [0, \"Saddle\"],\n",
    "               [0, \"Lasso\"],\n",
    "               [1, \"Saddle\"]\n",
    "               ]\n",
    "\n",
    "        prices = {'Pony': 9.99,\n",
    "                  'Saddle': 4.95,\n",
    "                  'Lasso': '3.25'\n",
    "                  }\n",
    "\n",
    "        df = pd.DataFrame(raw, columns=[\"orderID\", \"item\"])\n",
    "\n",
    "        df['price'] = df['item'].map(prices)\n",
    "\n",
    "        ```\n",
    "\n",
    "\n",
    "***Part 2:*** \n",
    "\n",
    "Create a barchart of your dataset `Fortune_Counts` from Part 1 and color the bars by their category. Create a `seaborn.barplot` with a bar for each fortune colored by category (positive / negative / neutral). Please use the seaborn plotting library. You can install seaborn using `pip`. You can read about the API for the barplot [here](https://seaborn.pydata.org/generated/seaborn.barplot.html). Make the x-axis num_fortune, the y-axis fortune. \n",
    "\n",
    "\n",
    "**Output**\n",
    "\n",
    "*Part 1:* A sorted DataFrame detailing the number of questions per fortune outcome, along with the mapped category\n",
    "\n",
    "*Part 2:* A `seaborn.barplot` with a bar for each fortune colored by category (positive / negative / neutral)."
   ]
  },
  {
   "cell_type": "code",
   "execution_count": null,
   "metadata": {
    "deletable": false,
    "nbgrader": {
     "checksum": "6076d775b5d6e6d61357854efb14ba31",
     "grade": false,
     "grade_id": "Task4-1_response",
     "locked": false,
     "schema_version": 1,
     "solution": true
    }
   },
   "outputs": [],
   "source": [
    "# Task 4 Part 1\n",
    "# -- YOUR CODE FOR TASK 4.1 --\n",
    "\n",
    "# Create dataFrame 'Fortune_Counts' with fortune, category, and num_fortune\n",
    "Fortune_Counts = ...\n",
    "\n",
    "# Import categories from eightball\n",
    "\n",
    "# Create column 'category' mapping the category to each question\n",
    "Fortune_Counts['category'] = ...\n",
    "\n",
    "print(Fortune_Counts)\n",
    "\n",
    "print(\"Check your answers)"
   ]
  },
  {
   "cell_type": "code",
   "execution_count": null,
   "metadata": {
    "deletable": false,
    "nbgrader": {
     "checksum": "062ae741bfd9c5c3831f5588616d1c2d",
     "grade": false,
     "grade_id": "Task4-2_response",
     "locked": false,
     "schema_version": 1,
     "solution": true
    }
   },
   "outputs": [],
   "source": [
    "# Task 4 Part 2\n",
    "# -- YOUR CODE FOR TASK 4.2 --\n",
    "\n",
    "import seaborn as sns\n",
    "\n",
    "# Create barplot using sns.barplot()\n",
    "plt = sns.barplot(...)\n",
    "\n",
    "print(\"Check your answers)"
   ]
  },
  {
   "cell_type": "code",
   "execution_count": null,
   "metadata": {
    "deletable": false,
    "nbgrader": {
     "checksum": "b79a78bc6533c1e2dc4cc3d1c58d3e28",
     "grade": false,
     "grade_id": "cell-891e721566a2ee69",
     "locked": false,
     "schema_version": 1,
     "solution": true
    }
   },
   "outputs": [],
   "source": [
    "print(\"Ignore this cell\")\n",
    "print(\"Check your answers)"
   ]
  },
  {
   "cell_type": "code",
   "execution_count": null,
   "metadata": {
    "deletable": false,
    "editable": false,
    "nbgrader": {
     "checksum": "49cbdbfd46fc1b89e1e931b5822b29f6",
     "grade": true,
     "grade_id": "Task4-1_Test",
     "locked": true,
     "points": 6,
     "schema_version": 1,
     "solution": false
    }
   },
   "outputs": [],
   "source": [
    "print(\"Keep up the good work!\")\n",
    "print(\"Pass this Cell\")"
   ]
  },
  {
   "cell_type": "markdown",
   "metadata": {
    "deletable": false,
    "editable": false,
    "nbgrader": {
     "checksum": "c419fc75b00befbf3afb9d6dab4726d7",
     "grade": false,
     "grade_id": "Task5_Overview",
     "locked": true,
     "schema_version": 1,
     "solution": false
    }
   },
   "source": [
    "# Task 5: Question your Questions\n",
    "\n",
    "Magic Eightballs have twenty set responses. We can safely assume that our python-based magic eight ball is not drawing its response from the great beyond. Understanding the patterns of your questions along with the fortunes provided may help interperet the algorithms behind the eight ball.\n",
    "\n",
    "**Instructions**\n",
    "\n",
    "***Part 1:*** How long are your questions? Do a quick character count on each of your questions. Include the new data in `questions_fortunes_updt` as a new column called `question_length`. For this task, we recommend using a pandas method and a base python function in the same line. \n",
    "\n",
    "What is the average question length?\n",
    "What is the average question length by fortune? \n",
    "\n",
    "***Part 2:*** It seems there may be a correlation between the input (question) length and the output (fortune). Use a pivot table to take a look at number of questions associated with the question length (as the index) vs the fortune told (columns). What do you notice? Make sure all rows display. Fill null values with \"-\" for easier interpretability. \n",
    "\n",
    "**Output**\n",
    "\n",
    "*Part 1:* \n",
    "* A new column in `questions_fortunes_updt` called `question_length`\n",
    "\n",
    "* A variable called `Avg_Length` of the average length of all questions\n",
    "\n",
    "* A variable called `Avg_Length_Fortune` of the average length of all questions by Fortune\n",
    "\n",
    "*Part 2:*\n",
    "* Pivot Table displaying all rows"
   ]
  },
  {
   "cell_type": "code",
   "execution_count": null,
   "metadata": {
    "deletable": false,
    "nbgrader": {
     "checksum": "b86c95655b7a9996079ad30b51ce4f83",
     "grade": false,
     "grade_id": "Task5-1_ans",
     "locked": false,
     "schema_version": 1,
     "solution": true
    }
   },
   "outputs": [],
   "source": [
    "# Task 5 Part 1\n",
    "# -- YOUR CODE FOR TASK 5.1 --\n",
    "\n",
    "# Create new column `question-length`\n",
    "\n",
    "# Calculate average length\n",
    "Avg_Length = ...\n",
    "\n",
    "# Calculate average length by fortune\n",
    "Avg_Length_Fortune  = ...\n",
    "\n",
    "print(\"Check your answers)"
   ]
  },
  {
   "cell_type": "code",
   "execution_count": null,
   "metadata": {
    "deletable": false,
    "nbgrader": {
     "checksum": "2d7487bd53503eaeef6abe16cb4f7e81",
     "grade": false,
     "grade_id": "Task5-2_ans",
     "locked": false,
     "schema_version": 1,
     "solution": true
    }
   },
   "outputs": [],
   "source": [
    "# Task 5 Part 2\n",
    "# -- YOUR CODE FOR TASK 5.2 --\n",
    "\n",
    "# Display all rows \n",
    "\n",
    "\n",
    "# Create pivot table\n",
    "\n",
    "\n",
    "print(\"Check your answers)"
   ]
  },
  {
   "cell_type": "code",
   "execution_count": null,
   "metadata": {
    "deletable": false,
    "editable": false,
    "nbgrader": {
     "checksum": "2d749762fdbeee2e27a9b9c6bc670a1e",
     "grade": true,
     "grade_id": "Task5-1_test",
     "locked": true,
     "points": 3,
     "schema_version": 1,
     "solution": false
    }
   },
   "outputs": [],
   "source": [
    "print(\"Do you excel at Pivot Tables?\")"
   ]
  },
  {
   "cell_type": "code",
   "execution_count": null,
   "metadata": {
    "deletable": false,
    "editable": false,
    "nbgrader": {
     "checksum": "2c0d85b4148902477cb248185b5172e0",
     "grade": true,
     "grade_id": "Task5-2_test",
     "locked": true,
     "points": 2,
     "schema_version": 1,
     "solution": false
    }
   },
   "outputs": [],
   "source": [
    "print(\"We're trying to find out.\")"
   ]
  },
  {
   "cell_type": "markdown",
   "metadata": {
    "deletable": false,
    "editable": false,
    "nbgrader": {
     "checksum": "59c126e25402b098ee6eaa1690a9d875",
     "grade": false,
     "grade_id": "Task6_Overview",
     "locked": true,
     "schema_version": 1,
     "solution": false
    }
   },
   "source": [
    "# Task 6: Telling Analysis\n",
    "**Instructions**\n",
    "\n",
    "Remember our assumption that the output is a function of the input. Based on the pivot table above, it appears that each question length is associated with only one fortune, illustrating that the fortune choice is a function of the input question string length. Thus, we should expect the that two different questions of the same length would procedure the same result. The code below tests and proves this hypothesis.\n",
    "\n",
    "Our job is done then right? We can know what the eightball is going to tell us with any question, so we can tell the future. This is because the algorithm for this magic eight ball uses the length of the question as the seed.\n",
    "\n",
    "***Part 1:***\n",
    "Use the list below to test this hypothesis.\n",
    "\n",
    "```\n",
    "same_length  = [\"Can whales dance?\",\n",
    "                \"Can zebras paint?\"\n",
    "                ]\n",
    "\n",
    "```\n",
    "\n",
    "***Part 2:***\n",
    "Using what you now know about this magic eight ball, write your own function `get_new_fortune` that takes an input `question` and outputs a fortune `option`. Include at least two arguments in your function: `options` and `question`. Use two function arguments, one still being the options list from the eightball module as the fortune options. Get creative and add a third parameter to your function which alters the fortune told!\n",
    "\n",
    "Test your function by applying it to a question 'Will I make a lot of money and become a bizzilionaire?' to get a fortune. \n",
    "\n",
    "***Output***\n",
    "* `hypothesis_test` which boolean variable\n",
    "*  `get_new_fortune` a function with at least two inputs: `question` and `options`"
   ]
  },
  {
   "cell_type": "code",
   "execution_count": null,
   "metadata": {
    "deletable": false,
    "nbgrader": {
     "checksum": "545ce8cbcf79ed5860cdde4f55543ecf",
     "grade": false,
     "grade_id": "task6-1_response",
     "locked": false,
     "schema_version": 1,
     "solution": true
    }
   },
   "outputs": [],
   "source": [
    "# Task 6 Part 1\n",
    "# -- YOUR CODE FOR TASK 6.1 --\n",
    "\n",
    "# Same Length List\n",
    "same_length  = [\"Can whales dance?\",\n",
    "                \"Can zebras paint?\"\n",
    "                ]\n",
    "\n",
    "# Code to test if fortunes told are identical\n",
    "hypothesis_test = ...\n",
    "\n",
    "print(hypothesis_test)\n",
    "\n",
    "print(\"Check your answers)"
   ]
  },
  {
   "cell_type": "code",
   "execution_count": null,
   "metadata": {
    "deletable": false,
    "nbgrader": {
     "checksum": "bfe369810cbba22e6fff0091475fed63",
     "grade": true,
     "grade_id": "task6_2_grader",
     "locked": false,
     "points": 3,
     "schema_version": 1,
     "solution": true
    }
   },
   "outputs": [],
   "source": [
    "# Task 6 Part 2\n",
    "# -- YOUR CODE FOR TASK 6.2 --\n",
    "\n",
    "# Create your function `get_new_fortune`\n",
    "\n",
    "# Test your function on the question: \"Will I make a lot of money and become a bizzilionaire?\"\n",
    "\n",
    "print(\"Check your answers)"
   ]
  },
  {
   "cell_type": "code",
   "execution_count": null,
   "metadata": {
    "deletable": false,
    "editable": false,
    "nbgrader": {
     "checksum": "f69db71a966cef4a0a005ff78373ec73",
     "grade": true,
     "grade_id": "Task6-1_test",
     "locked": true,
     "points": 1,
     "schema_version": 1,
     "solution": false
    }
   },
   "outputs": [],
   "source": [
    "print(\"Was our hypothesis true?\")\n"
   ]
  },
  {
   "cell_type": "code",
   "execution_count": null,
   "metadata": {
    "deletable": false,
    "editable": false,
    "nbgrader": {
     "checksum": "82248a5d360438337186b1296edf4f41",
     "grade": true,
     "grade_id": "Task6-12_test",
     "locked": true,
     "points": 1,
     "schema_version": 1,
     "solution": false
    }
   },
   "outputs": [],
   "source": [
    "print(\"Can you tell your own fortune now?\")\n"
   ]
  },
  {
   "cell_type": "markdown",
   "metadata": {
    "deletable": false,
    "editable": false,
    "nbgrader": {
     "checksum": "9c776ac976585461c63265f509cfd5e0",
     "grade": false,
     "grade_id": "cell-83247b1356a04dd2",
     "locked": true,
     "schema_version": 1,
     "solution": false
    }
   },
   "source": [
    "# Wrapping up!\n",
    "Please save this notebook as \"Last Name - First Name.ipynb\". Make sure to save this file and submit it via the link you received in your Deloitte email. \n",
    "\n",
    "Happy coding!"
   ]
  },
  {
   "cell_type": "markdown",
   "metadata": {
    "deletable": false,
    "editable": false,
    "nbgrader": {
     "checksum": "85897db68b68aac99108855c4dc59736",
     "grade": false,
     "grade_id": "cell-b4399d8586aa037a",
     "locked": true,
     "schema_version": 1,
     "solution": false
    }
   },
   "source": [
    "## References\n",
    "1. [Javascript Magic 8 Ball with Basic DOM Manipulation](https://medium.com/@kellylougheed/javascript-magic-8-ball-with-basic-dom-manipulation-1636b83c3c26)\n",
    "2. [Mattel Games Magic 8 Ball](https://www.amazon.com/Mattel-Games-Magic-8-Ball/dp/B00001ZWV7) - Where to buy on Amazon."
   ]
  }
 ],
 "metadata": {
  "kernelspec": {
   "display_name": "Python 3",
   "language": "python",
   "name": "python3"
  },
  "language_info": {
   "codemirror_mode": {
    "name": "ipython",
    "version": 3
   },
   "file_extension": ".py",
   "mimetype": "text/x-python",
   "name": "python",
   "nbconvert_exporter": "python",
   "pygments_lexer": "ipython3",
   "version": "3.7.1"
  }
 },
 "nbformat": 4,
 "nbformat_minor": 2
}
